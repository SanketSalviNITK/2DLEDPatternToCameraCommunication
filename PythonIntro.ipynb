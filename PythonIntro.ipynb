{
  "nbformat": 4,
  "nbformat_minor": 0,
  "metadata": {
    "colab": {
      "provenance": [],
      "toc_visible": true,
      "authorship_tag": "ABX9TyNKOWLaeVrkHhR42UMPSBZS",
      "include_colab_link": true
    },
    "kernelspec": {
      "name": "python3",
      "display_name": "Python 3"
    },
    "language_info": {
      "name": "python"
    }
  },
  "cells": [
    {
      "cell_type": "markdown",
      "metadata": {
        "id": "view-in-github",
        "colab_type": "text"
      },
      "source": [
        "<a href=\"https://colab.research.google.com/github/SanketSalviNITK/2DLEDPatternToCameraCommunication/blob/main/PythonIntro.ipynb\" target=\"_parent\"><img src=\"https://colab.research.google.com/assets/colab-badge.svg\" alt=\"Open In Colab\"/></a>"
      ]
    },
    {
      "cell_type": "code",
      "execution_count": 1,
      "metadata": {
        "colab": {
          "base_uri": "https://localhost:8080/"
        },
        "id": "z_A0nsB4_EFq",
        "outputId": "401ef271-342a-4ebc-b585-768182ad892e"
      },
      "outputs": [
        {
          "output_type": "stream",
          "name": "stdout",
          "text": [
            "Hello World\n",
            "Hello World\n",
            "Hello World\n"
          ]
        }
      ],
      "source": [
        "#introduction to python\n",
        "# print statements\n",
        "print(\"Hello World\")\n",
        "print(\"Hello \"+\"World\")\n",
        "print('Hello ''World')"
      ]
    },
    {
      "cell_type": "code",
      "source": [
        "#example of dynamic typecasting\n",
        "a=10\n",
        "print(type(a))\n",
        "b=\"Hello\"\n",
        "print(type(b))\n",
        "c=2.15\n",
        "print(type(c))"
      ],
      "metadata": {
        "colab": {
          "base_uri": "https://localhost:8080/"
        },
        "id": "YwOo-v7n_U12",
        "outputId": "e30c2b2a-ddff-4187-acc1-2aca8a4ea276"
      },
      "execution_count": 2,
      "outputs": [
        {
          "output_type": "stream",
          "name": "stdout",
          "text": [
            "<class 'int'>\n",
            "<class 'str'>\n",
            "<class 'float'>\n"
          ]
        }
      ]
    },
    {
      "cell_type": "code",
      "source": [
        "#example of typecasting/wrapper class\n",
        "a=10.5\n",
        "print(a)\n",
        "print(type(a))\n",
        "a=int(a)\n",
        "print(a)\n",
        "print(type(a))"
      ],
      "metadata": {
        "colab": {
          "base_uri": "https://localhost:8080/"
        },
        "id": "nqm7m_Yt_rld",
        "outputId": "1e9acf67-89eb-4c1b-eb22-df9a60502519"
      },
      "execution_count": 3,
      "outputs": [
        {
          "output_type": "stream",
          "name": "stdout",
          "text": [
            "10.5\n",
            "<class 'float'>\n",
            "10\n",
            "<class 'int'>\n"
          ]
        }
      ]
    },
    {
      "cell_type": "code",
      "source": [
        "#print with variable\n",
        "print(\"The number is\",a, \"And second string\")\n",
        "print(\"The number is \"+str(a)+\" And second string\")"
      ],
      "metadata": {
        "colab": {
          "base_uri": "https://localhost:8080/"
        },
        "id": "nEkN66wBAA-w",
        "outputId": "205fea03-e412-4662-c708-8945d7404899"
      },
      "execution_count": 7,
      "outputs": [
        {
          "output_type": "stream",
          "name": "stdout",
          "text": [
            "The number is 10 And second string\n",
            "The number is 10 And second string\n"
          ]
        }
      ]
    },
    {
      "cell_type": "code",
      "source": [
        "#other print parameters\n",
        "print(\"Hello\",end=\" \")\n",
        "print(\"World\")\n",
        "\n",
        "print(\"Hello\",end=\"@\")\n",
        "print(\"World\")"
      ],
      "metadata": {
        "colab": {
          "base_uri": "https://localhost:8080/"
        },
        "id": "Y5CxVdIvAQsD",
        "outputId": "0949ca89-48b5-4447-aaed-55c7a6bbe2a8"
      },
      "execution_count": 11,
      "outputs": [
        {
          "output_type": "stream",
          "name": "stdout",
          "text": [
            "Hello World\n",
            "Hello@World\n"
          ]
        }
      ]
    },
    {
      "cell_type": "code",
      "source": [
        "#example to take input from users\n",
        "a=input()\n",
        "print(a)\n",
        "print(type(a)) #default datatype is string\n",
        "\n",
        "a=int(input()) #typecasted\n",
        "print(a)\n",
        "print(type(a))\n",
        "\n",
        "a=int(input(\"Enter a number:\")) #input and prompt in same line\n",
        "print(a)\n",
        "print(type(a))"
      ],
      "metadata": {
        "colab": {
          "base_uri": "https://localhost:8080/"
        },
        "id": "KKT-TljnA03n",
        "outputId": "a7b49b3b-c9e6-48ae-8632-d18b3b4ed528"
      },
      "execution_count": 16,
      "outputs": [
        {
          "output_type": "stream",
          "name": "stdout",
          "text": [
            "20\n",
            "20\n",
            "<class 'str'>\n",
            "20\n",
            "20\n",
            "<class 'int'>\n",
            "Enter a number:20\n",
            "20\n",
            "<class 'int'>\n"
          ]
        }
      ]
    },
    {
      "cell_type": "code",
      "source": [
        "#selection statement\n",
        "a=int(input(\"Enter a number:\"))\n",
        "if a==10:\n",
        "  print(\"Awesome\")\n",
        "elif a==5:\n",
        "  print(\"Great\")\n",
        "else:\n",
        "  print(\"Good\")\n"
      ],
      "metadata": {
        "colab": {
          "base_uri": "https://localhost:8080/"
        },
        "id": "6JXiP3SuBR2W",
        "outputId": "735a2053-c077-4169-f3cf-19fc8b98a651"
      },
      "execution_count": 17,
      "outputs": [
        {
          "output_type": "stream",
          "name": "stdout",
          "text": [
            "Enter a number:10\n",
            "Awesome\n"
          ]
        }
      ]
    },
    {
      "cell_type": "code",
      "source": [],
      "metadata": {
        "id": "6cfm5a2GClYj"
      },
      "execution_count": null,
      "outputs": []
    }
  ]
}